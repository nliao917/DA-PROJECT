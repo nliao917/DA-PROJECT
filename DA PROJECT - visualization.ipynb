{
 "cells": [
  {
   "cell_type": "code",
   "execution_count": 2,
   "metadata": {},
   "outputs": [],
   "source": [
    "import pandas as pd\n",
    "import seaborn as sns\n",
    "import numpy as np\n",
    "import os\n",
    "import datetime\n",
    "#%matplotlib inline\n",
    "import warnings\n",
    "warnings.filterwarnings('ignore')\n",
    "import matplotlib.pylab as plt"
   ]
  },
  {
   "cell_type": "markdown",
   "metadata": {},
   "source": [
    "# Data Cleaning and Exploratory Data Analysis¶"
   ]
  },
  {
   "cell_type": "code",
   "execution_count": 3,
   "metadata": {},
   "outputs": [],
   "source": [
    "nypd = pd.read_csv(\"NYPD_Arrest_Data__Year_to_Date_.csv\",index_col='ARREST_KEY')"
   ]
  },
  {
   "cell_type": "code",
   "execution_count": 4,
   "metadata": {},
   "outputs": [],
   "source": [
    "nypd=nypd.dropna()\n",
    "nypd['ARREST_DATE1'] = nypd['ARREST_DATE'].apply(lambda x:datetime.datetime.strptime(x,'%m/%d/%Y'))"
   ]
  },
  {
   "cell_type": "code",
   "execution_count": 5,
   "metadata": {},
   "outputs": [
    {
     "data": {
      "text/html": [
       "<div>\n",
       "<style scoped>\n",
       "    .dataframe tbody tr th:only-of-type {\n",
       "        vertical-align: middle;\n",
       "    }\n",
       "\n",
       "    .dataframe tbody tr th {\n",
       "        vertical-align: top;\n",
       "    }\n",
       "\n",
       "    .dataframe thead th {\n",
       "        text-align: right;\n",
       "    }\n",
       "</style>\n",
       "<table border=\"1\" class=\"dataframe\">\n",
       "  <thead>\n",
       "    <tr style=\"text-align: right;\">\n",
       "      <th></th>\n",
       "      <th>ARREST_DATE</th>\n",
       "      <th>PD_CD</th>\n",
       "      <th>PD_DESC</th>\n",
       "      <th>KY_CD</th>\n",
       "      <th>OFNS_DESC</th>\n",
       "      <th>LAW_CODE</th>\n",
       "      <th>LAW_CAT_CD</th>\n",
       "      <th>ARREST_BORO</th>\n",
       "      <th>ARREST_PRECINCT</th>\n",
       "      <th>JURISDICTION_CODE</th>\n",
       "      <th>AGE_GROUP</th>\n",
       "      <th>PERP_SEX</th>\n",
       "      <th>PERP_RACE</th>\n",
       "      <th>X_COORD_CD</th>\n",
       "      <th>Y_COORD_CD</th>\n",
       "      <th>Latitude</th>\n",
       "      <th>Longitude</th>\n",
       "      <th>New Georeferenced Column</th>\n",
       "      <th>ARREST_DATE1</th>\n",
       "    </tr>\n",
       "    <tr>\n",
       "      <th>ARREST_KEY</th>\n",
       "      <th></th>\n",
       "      <th></th>\n",
       "      <th></th>\n",
       "      <th></th>\n",
       "      <th></th>\n",
       "      <th></th>\n",
       "      <th></th>\n",
       "      <th></th>\n",
       "      <th></th>\n",
       "      <th></th>\n",
       "      <th></th>\n",
       "      <th></th>\n",
       "      <th></th>\n",
       "      <th></th>\n",
       "      <th></th>\n",
       "      <th></th>\n",
       "      <th></th>\n",
       "      <th></th>\n",
       "      <th></th>\n",
       "    </tr>\n",
       "  </thead>\n",
       "  <tbody>\n",
       "    <tr>\n",
       "      <th>238013474</th>\n",
       "      <td>12/18/2021</td>\n",
       "      <td>157.0</td>\n",
       "      <td>RAPE 1</td>\n",
       "      <td>104.0</td>\n",
       "      <td>RAPE</td>\n",
       "      <td>PL 1303501</td>\n",
       "      <td>F</td>\n",
       "      <td>Q</td>\n",
       "      <td>105</td>\n",
       "      <td>97</td>\n",
       "      <td>18-24</td>\n",
       "      <td>M</td>\n",
       "      <td>BLACK</td>\n",
       "      <td>1057636</td>\n",
       "      <td>203954</td>\n",
       "      <td>40.726187</td>\n",
       "      <td>-73.735234</td>\n",
       "      <td>POINT (-73.73523390399998 40.72618713000002)</td>\n",
       "      <td>2021-12-18</td>\n",
       "    </tr>\n",
       "    <tr>\n",
       "      <th>236943583</th>\n",
       "      <td>11/25/2021</td>\n",
       "      <td>263.0</td>\n",
       "      <td>ARSON 2,3,4</td>\n",
       "      <td>114.0</td>\n",
       "      <td>ARSON</td>\n",
       "      <td>PL 1501500</td>\n",
       "      <td>F</td>\n",
       "      <td>K</td>\n",
       "      <td>69</td>\n",
       "      <td>71</td>\n",
       "      <td>25-44</td>\n",
       "      <td>M</td>\n",
       "      <td>BLACK</td>\n",
       "      <td>1014340</td>\n",
       "      <td>171320</td>\n",
       "      <td>40.636868</td>\n",
       "      <td>-73.891586</td>\n",
       "      <td>POINT (-73.89158591899997 40.63686750900007)</td>\n",
       "      <td>2021-11-25</td>\n",
       "    </tr>\n",
       "    <tr>\n",
       "      <th>234938876</th>\n",
       "      <td>10/14/2021</td>\n",
       "      <td>594.0</td>\n",
       "      <td>OBSCENITY 1</td>\n",
       "      <td>116.0</td>\n",
       "      <td>SEX CRIMES</td>\n",
       "      <td>PL 2631100</td>\n",
       "      <td>F</td>\n",
       "      <td>K</td>\n",
       "      <td>61</td>\n",
       "      <td>0</td>\n",
       "      <td>25-44</td>\n",
       "      <td>M</td>\n",
       "      <td>WHITE</td>\n",
       "      <td>995244</td>\n",
       "      <td>155739</td>\n",
       "      <td>40.594145</td>\n",
       "      <td>-73.960415</td>\n",
       "      <td>POINT (-73.96041495199995 40.59414516900005)</td>\n",
       "      <td>2021-10-14</td>\n",
       "    </tr>\n",
       "    <tr>\n",
       "      <th>234788259</th>\n",
       "      <td>10/11/2021</td>\n",
       "      <td>263.0</td>\n",
       "      <td>ARSON 2,3,4</td>\n",
       "      <td>114.0</td>\n",
       "      <td>ARSON</td>\n",
       "      <td>PL 1501001</td>\n",
       "      <td>F</td>\n",
       "      <td>B</td>\n",
       "      <td>42</td>\n",
       "      <td>71</td>\n",
       "      <td>18-24</td>\n",
       "      <td>M</td>\n",
       "      <td>BLACK</td>\n",
       "      <td>1009058</td>\n",
       "      <td>239616</td>\n",
       "      <td>40.824340</td>\n",
       "      <td>-73.910365</td>\n",
       "      <td>POINT (-73.91036538099996 40.82433953100008)</td>\n",
       "      <td>2021-10-11</td>\n",
       "    </tr>\n",
       "    <tr>\n",
       "      <th>234117071</th>\n",
       "      <td>09/27/2021</td>\n",
       "      <td>157.0</td>\n",
       "      <td>RAPE 1</td>\n",
       "      <td>104.0</td>\n",
       "      <td>RAPE</td>\n",
       "      <td>PL 1303501</td>\n",
       "      <td>F</td>\n",
       "      <td>K</td>\n",
       "      <td>84</td>\n",
       "      <td>0</td>\n",
       "      <td>25-44</td>\n",
       "      <td>M</td>\n",
       "      <td>BLACK</td>\n",
       "      <td>989013</td>\n",
       "      <td>192652</td>\n",
       "      <td>40.695469</td>\n",
       "      <td>-73.982825</td>\n",
       "      <td>POINT (-73.98282507899995 40.69546894100006)</td>\n",
       "      <td>2021-09-27</td>\n",
       "    </tr>\n",
       "    <tr>\n",
       "      <th>...</th>\n",
       "      <td>...</td>\n",
       "      <td>...</td>\n",
       "      <td>...</td>\n",
       "      <td>...</td>\n",
       "      <td>...</td>\n",
       "      <td>...</td>\n",
       "      <td>...</td>\n",
       "      <td>...</td>\n",
       "      <td>...</td>\n",
       "      <td>...</td>\n",
       "      <td>...</td>\n",
       "      <td>...</td>\n",
       "      <td>...</td>\n",
       "      <td>...</td>\n",
       "      <td>...</td>\n",
       "      <td>...</td>\n",
       "      <td>...</td>\n",
       "      <td>...</td>\n",
       "      <td>...</td>\n",
       "    </tr>\n",
       "    <tr>\n",
       "      <th>222884924</th>\n",
       "      <td>01/10/2021</td>\n",
       "      <td>397.0</td>\n",
       "      <td>ROBBERY,OPEN AREA UNCLASSIFIED</td>\n",
       "      <td>105.0</td>\n",
       "      <td>ROBBERY</td>\n",
       "      <td>PL 1601001</td>\n",
       "      <td>F</td>\n",
       "      <td>B</td>\n",
       "      <td>46</td>\n",
       "      <td>0</td>\n",
       "      <td>45-64</td>\n",
       "      <td>M</td>\n",
       "      <td>BLACK</td>\n",
       "      <td>1011432</td>\n",
       "      <td>247605</td>\n",
       "      <td>40.846260</td>\n",
       "      <td>-73.901755</td>\n",
       "      <td>POINT (-73.90175529499999 40.846260031000035)</td>\n",
       "      <td>2021-01-10</td>\n",
       "    </tr>\n",
       "    <tr>\n",
       "      <th>223918625</th>\n",
       "      <td>02/03/2021</td>\n",
       "      <td>792.0</td>\n",
       "      <td>WEAPONS POSSESSION 1 &amp; 2</td>\n",
       "      <td>118.0</td>\n",
       "      <td>DANGEROUS WEAPONS</td>\n",
       "      <td>PL 2650303</td>\n",
       "      <td>F</td>\n",
       "      <td>K</td>\n",
       "      <td>67</td>\n",
       "      <td>0</td>\n",
       "      <td>18-24</td>\n",
       "      <td>M</td>\n",
       "      <td>BLACK</td>\n",
       "      <td>1004940</td>\n",
       "      <td>180941</td>\n",
       "      <td>40.663302</td>\n",
       "      <td>-73.925425</td>\n",
       "      <td>POINT (-73.92542497899994 40.66330200400005)</td>\n",
       "      <td>2021-02-03</td>\n",
       "    </tr>\n",
       "    <tr>\n",
       "      <th>224323770</th>\n",
       "      <td>02/13/2021</td>\n",
       "      <td>101.0</td>\n",
       "      <td>ASSAULT 3</td>\n",
       "      <td>344.0</td>\n",
       "      <td>ASSAULT 3 &amp; RELATED OFFENSES</td>\n",
       "      <td>PL 1200001</td>\n",
       "      <td>M</td>\n",
       "      <td>S</td>\n",
       "      <td>121</td>\n",
       "      <td>0</td>\n",
       "      <td>45-64</td>\n",
       "      <td>M</td>\n",
       "      <td>BLACK</td>\n",
       "      <td>942825</td>\n",
       "      <td>166367</td>\n",
       "      <td>40.623227</td>\n",
       "      <td>-74.149227</td>\n",
       "      <td>POINT (-74.14922697299994 40.623226819000074)</td>\n",
       "      <td>2021-02-13</td>\n",
       "    </tr>\n",
       "    <tr>\n",
       "      <th>222599533</th>\n",
       "      <td>01/04/2021</td>\n",
       "      <td>792.0</td>\n",
       "      <td>WEAPONS POSSESSION 1 &amp; 2</td>\n",
       "      <td>118.0</td>\n",
       "      <td>DANGEROUS WEAPONS</td>\n",
       "      <td>PL 2650303</td>\n",
       "      <td>F</td>\n",
       "      <td>K</td>\n",
       "      <td>73</td>\n",
       "      <td>0</td>\n",
       "      <td>25-44</td>\n",
       "      <td>M</td>\n",
       "      <td>BLACK</td>\n",
       "      <td>1007524</td>\n",
       "      <td>188555</td>\n",
       "      <td>40.684194</td>\n",
       "      <td>-73.916085</td>\n",
       "      <td>POINT (-73.91608474599997 40.684194302000044)</td>\n",
       "      <td>2021-01-04</td>\n",
       "    </tr>\n",
       "    <tr>\n",
       "      <th>224056881</th>\n",
       "      <td>02/06/2021</td>\n",
       "      <td>268.0</td>\n",
       "      <td>CRIMINAL MIS 2 &amp; 3</td>\n",
       "      <td>121.0</td>\n",
       "      <td>CRIMINAL MISCHIEF &amp; RELATED OF</td>\n",
       "      <td>PL 1451000</td>\n",
       "      <td>F</td>\n",
       "      <td>Q</td>\n",
       "      <td>102</td>\n",
       "      <td>0</td>\n",
       "      <td>18-24</td>\n",
       "      <td>M</td>\n",
       "      <td>ASIAN / PACIFIC ISLANDER</td>\n",
       "      <td>1031414</td>\n",
       "      <td>190787</td>\n",
       "      <td>40.690226</td>\n",
       "      <td>-73.829932</td>\n",
       "      <td>POINT (-73.82993153599993 40.69022556600004)</td>\n",
       "      <td>2021-02-06</td>\n",
       "    </tr>\n",
       "  </tbody>\n",
       "</table>\n",
       "<p>154011 rows × 19 columns</p>\n",
       "</div>"
      ],
      "text/plain": [
       "           ARREST_DATE  PD_CD                         PD_DESC  KY_CD  \\\n",
       "ARREST_KEY                                                             \n",
       "238013474   12/18/2021  157.0                          RAPE 1  104.0   \n",
       "236943583   11/25/2021  263.0                     ARSON 2,3,4  114.0   \n",
       "234938876   10/14/2021  594.0                     OBSCENITY 1  116.0   \n",
       "234788259   10/11/2021  263.0                     ARSON 2,3,4  114.0   \n",
       "234117071   09/27/2021  157.0                          RAPE 1  104.0   \n",
       "...                ...    ...                             ...    ...   \n",
       "222884924   01/10/2021  397.0  ROBBERY,OPEN AREA UNCLASSIFIED  105.0   \n",
       "223918625   02/03/2021  792.0        WEAPONS POSSESSION 1 & 2  118.0   \n",
       "224323770   02/13/2021  101.0                       ASSAULT 3  344.0   \n",
       "222599533   01/04/2021  792.0        WEAPONS POSSESSION 1 & 2  118.0   \n",
       "224056881   02/06/2021  268.0              CRIMINAL MIS 2 & 3  121.0   \n",
       "\n",
       "                                 OFNS_DESC    LAW_CODE LAW_CAT_CD ARREST_BORO  \\\n",
       "ARREST_KEY                                                                      \n",
       "238013474                             RAPE  PL 1303501          F           Q   \n",
       "236943583                            ARSON  PL 1501500          F           K   \n",
       "234938876                       SEX CRIMES  PL 2631100          F           K   \n",
       "234788259                            ARSON  PL 1501001          F           B   \n",
       "234117071                             RAPE  PL 1303501          F           K   \n",
       "...                                    ...         ...        ...         ...   \n",
       "222884924                          ROBBERY  PL 1601001          F           B   \n",
       "223918625                DANGEROUS WEAPONS  PL 2650303          F           K   \n",
       "224323770     ASSAULT 3 & RELATED OFFENSES  PL 1200001          M           S   \n",
       "222599533                DANGEROUS WEAPONS  PL 2650303          F           K   \n",
       "224056881   CRIMINAL MISCHIEF & RELATED OF  PL 1451000          F           Q   \n",
       "\n",
       "            ARREST_PRECINCT  JURISDICTION_CODE AGE_GROUP PERP_SEX  \\\n",
       "ARREST_KEY                                                          \n",
       "238013474               105                 97     18-24        M   \n",
       "236943583                69                 71     25-44        M   \n",
       "234938876                61                  0     25-44        M   \n",
       "234788259                42                 71     18-24        M   \n",
       "234117071                84                  0     25-44        M   \n",
       "...                     ...                ...       ...      ...   \n",
       "222884924                46                  0     45-64        M   \n",
       "223918625                67                  0     18-24        M   \n",
       "224323770               121                  0     45-64        M   \n",
       "222599533                73                  0     25-44        M   \n",
       "224056881               102                  0     18-24        M   \n",
       "\n",
       "                           PERP_RACE  X_COORD_CD  Y_COORD_CD   Latitude  \\\n",
       "ARREST_KEY                                                                \n",
       "238013474                      BLACK     1057636      203954  40.726187   \n",
       "236943583                      BLACK     1014340      171320  40.636868   \n",
       "234938876                      WHITE      995244      155739  40.594145   \n",
       "234788259                      BLACK     1009058      239616  40.824340   \n",
       "234117071                      BLACK      989013      192652  40.695469   \n",
       "...                              ...         ...         ...        ...   \n",
       "222884924                      BLACK     1011432      247605  40.846260   \n",
       "223918625                      BLACK     1004940      180941  40.663302   \n",
       "224323770                      BLACK      942825      166367  40.623227   \n",
       "222599533                      BLACK     1007524      188555  40.684194   \n",
       "224056881   ASIAN / PACIFIC ISLANDER     1031414      190787  40.690226   \n",
       "\n",
       "            Longitude                       New Georeferenced Column  \\\n",
       "ARREST_KEY                                                             \n",
       "238013474  -73.735234   POINT (-73.73523390399998 40.72618713000002)   \n",
       "236943583  -73.891586   POINT (-73.89158591899997 40.63686750900007)   \n",
       "234938876  -73.960415   POINT (-73.96041495199995 40.59414516900005)   \n",
       "234788259  -73.910365   POINT (-73.91036538099996 40.82433953100008)   \n",
       "234117071  -73.982825   POINT (-73.98282507899995 40.69546894100006)   \n",
       "...               ...                                            ...   \n",
       "222884924  -73.901755  POINT (-73.90175529499999 40.846260031000035)   \n",
       "223918625  -73.925425   POINT (-73.92542497899994 40.66330200400005)   \n",
       "224323770  -74.149227  POINT (-74.14922697299994 40.623226819000074)   \n",
       "222599533  -73.916085  POINT (-73.91608474599997 40.684194302000044)   \n",
       "224056881  -73.829932   POINT (-73.82993153599993 40.69022556600004)   \n",
       "\n",
       "           ARREST_DATE1  \n",
       "ARREST_KEY               \n",
       "238013474    2021-12-18  \n",
       "236943583    2021-11-25  \n",
       "234938876    2021-10-14  \n",
       "234788259    2021-10-11  \n",
       "234117071    2021-09-27  \n",
       "...                 ...  \n",
       "222884924    2021-01-10  \n",
       "223918625    2021-02-03  \n",
       "224323770    2021-02-13  \n",
       "222599533    2021-01-04  \n",
       "224056881    2021-02-06  \n",
       "\n",
       "[154011 rows x 19 columns]"
      ]
     },
     "execution_count": 5,
     "metadata": {},
     "output_type": "execute_result"
    }
   ],
   "source": [
    "nypd"
   ]
  },
  {
   "cell_type": "code",
   "execution_count": 6,
   "metadata": {},
   "outputs": [
    {
     "name": "stdout",
     "output_type": "stream",
     "text": [
      "<class 'pandas.core.frame.DataFrame'>\n",
      "Int64Index: 154011 entries, 238013474 to 224056881\n",
      "Data columns (total 19 columns):\n",
      " #   Column                    Non-Null Count   Dtype         \n",
      "---  ------                    --------------   -----         \n",
      " 0   ARREST_DATE               154011 non-null  object        \n",
      " 1   PD_CD                     154011 non-null  float64       \n",
      " 2   PD_DESC                   154011 non-null  object        \n",
      " 3   KY_CD                     154011 non-null  float64       \n",
      " 4   OFNS_DESC                 154011 non-null  object        \n",
      " 5   LAW_CODE                  154011 non-null  object        \n",
      " 6   LAW_CAT_CD                154011 non-null  object        \n",
      " 7   ARREST_BORO               154011 non-null  object        \n",
      " 8   ARREST_PRECINCT           154011 non-null  int64         \n",
      " 9   JURISDICTION_CODE         154011 non-null  int64         \n",
      " 10  AGE_GROUP                 154011 non-null  object        \n",
      " 11  PERP_SEX                  154011 non-null  object        \n",
      " 12  PERP_RACE                 154011 non-null  object        \n",
      " 13  X_COORD_CD                154011 non-null  int64         \n",
      " 14  Y_COORD_CD                154011 non-null  int64         \n",
      " 15  Latitude                  154011 non-null  float64       \n",
      " 16  Longitude                 154011 non-null  float64       \n",
      " 17  New Georeferenced Column  154011 non-null  object        \n",
      " 18  ARREST_DATE1              154011 non-null  datetime64[ns]\n",
      "dtypes: datetime64[ns](1), float64(4), int64(4), object(10)\n",
      "memory usage: 23.5+ MB\n"
     ]
    }
   ],
   "source": [
    "nypd.info()"
   ]
  },
  {
   "cell_type": "markdown",
   "metadata": {},
   "source": [
    "## Visualization and Exploratory Data Analysis "
   ]
  },
  {
   "cell_type": "markdown",
   "metadata": {},
   "source": [
    "### Incidents by Borough"
   ]
  },
  {
   "cell_type": "code",
   "execution_count": 7,
   "metadata": {},
   "outputs": [],
   "source": [
    "population = {\n",
    "    \"B\":1472654, #Bronx\n",
    "    \"S\":495747, #Staten Island\n",
    "    \"K\":2736074, #Brooklyn\n",
    "    \"M\":1694251, #Manhanttan\n",
    "    \"Q\":2405464  #Queens\n",
    "    \n",
    "}\n",
    "cases_per_capita={}\n",
    "for i in population:\n",
    "    cases_per_capita[i]=nypd.groupby('ARREST_BORO').size()[i]/population[i]"
   ]
  },
  {
   "cell_type": "code",
   "execution_count": 8,
   "metadata": {},
   "outputs": [],
   "source": [
    "area = {\n",
    "    \"B\":109.3, #Bronx\n",
    "    \"S\":148.9, #Staten Island\n",
    "    \"K\":179.7, #Brooklyn\n",
    "    \"M\":58.8, #Manhanttan\n",
    "    \"Q\":281.5  #Queens\n",
    "    \n",
    "}\n",
    "cases_per_area={}\n",
    "for i in population:\n",
    "    cases_per_area[i]=nypd.groupby('ARREST_BORO').size()[i]/area[i]"
   ]
  },
  {
   "cell_type": "code",
   "execution_count": 9,
   "metadata": {},
   "outputs": [
    {
     "data": {
      "image/png": "[encoded data removed]",
      "text/plain": [
       "<Figure size 432x288 with 3 Axes>"
      ]
     },
     "metadata": {
      "needs_background": "light"
     },
     "output_type": "display_data"
    }
   ],
   "source": [
    "#fig, axs = plt.subplots(1,2)\n",
    "fig, ax = plt.subplots(1, 3)\n",
    "plt.subplot(311)\n",
    "borough_group = nypd.groupby('ARREST_BORO')\n",
    "borough_group.size().plot(kind='bar',color=\"#ca6702\",xlabel=None,width=0.8,\n",
    "                         title=\"Number of Incidents by Borough\")\n",
    "plt.xticks([])\n",
    "\n",
    "plt.subplot(312)\n",
    "lists = sorted(cases_per_capita.items()) # sorted by key, return a list of tuples\n",
    "x, y = zip(*lists) # unpack a list of pairs into two tuples\n",
    "plt.bar(x, y,color=\"#bb3e03\")\n",
    "plt.title('Number of Incidents by Borough Per Capita')\n",
    "\n",
    "plt.subplot(313)\n",
    "lists = sorted(cases_per_area.items()) # sorted by key, return a list of tuples\n",
    "x, y = zip(*lists) # unpack a list of pairs into two tuples\n",
    "plt.bar(x, y,color=\"#ae2012\")\n",
    "plt.title('Number of Incidents by Area')\n",
    "\n",
    "\n",
    "fig.tight_layout()"
   ]
  },
  {
   "cell_type": "markdown",
   "metadata": {},
   "source": [
    "### Incidents by Holiday"
   ]
  },
  {
   "cell_type": "code",
   "execution_count": 10,
   "metadata": {},
   "outputs": [
    {
     "data": {
      "text/plain": [
       "<AxesSubplot:title={'center':\"Perpetrators' age\"}, ylabel='Number of Cases'>"
      ]
     },
     "execution_count": 10,
     "metadata": {},
     "output_type": "execute_result"
    },
    {
     "data": {
      "image/png": "[encoded data removed]",
      "text/plain": [
       "<Figure size 432x288 with 1 Axes>"
      ]
     },
     "metadata": {},
     "output_type": "display_data"
    }
   ],
   "source": [
    "age_group = nypd.groupby('AGE_GROUP')\n",
    "age_group.size().plot(kind='pie',title=\"Perpetrators' age\",ylabel=\"Number of Cases\")"
   ]
  },
  {
   "cell_type": "markdown",
   "metadata": {},
   "source": [
    "National Holiday\n",
    "<li> Friday, January 1 – New Year’s Day\n",
    "<li>Monday, January 18 – Martin Luther King, Jr. Day\n",
    "<li>Monday, February 15 – President’s Day\n",
    "<li>Monday, May 31 – Memorial Day\n",
    "<li>Friday, June 18 – Juneteenth (observed)\n",
    "<li>Saturday, June 19 – Juneteenth\n",
    "<li>Sunday, July 4 – Independence Day\n",
    "<li>Monday, July 5 – Independence Day (observed)\n",
    "<li>Monday, September 6 – Labor Day\n",
    "<li>Monday, October 11 – Columbus Day\n",
    "<li>Thursday, November 11 – Veterans Day\n",
    "<li>Thursday, November 25 – Thanksgiving Day\n",
    "<li>Friday, December 24 – Christmas Day (observed)\n",
    "<li>Saturday, December 25 – Christmas Day\n",
    "<li>Friday, December 31 – New Year’s Day (observed)"
   ]
  },
  {
   "cell_type": "code",
   "execution_count": 11,
   "metadata": {},
   "outputs": [],
   "source": [
    "Federal_Holiday = [\"01/01/2021\",\"01/18/2021\",\"02/15/2021\",\"05/31/2021\",\n",
    "                   \"06/18/2021\",\"06/19/2021\",\"07/04/2021\",\"07/05/2021\",\n",
    "                   \"09/06/2021\",\"10/11/2021\",\"11/11/2021\",\"11/25/2021\",\n",
    "                   \"12/24/2021\",\"12/25/2021\",\"12/31/2021\"]"
   ]
  },
  {
   "cell_type": "code",
   "execution_count": 12,
   "metadata": {},
   "outputs": [],
   "source": [
    "def holiday(a):\n",
    "    if a in Federal_Holiday:\n",
    "        return (\"Holiday\")\n",
    "    else:\n",
    "        return (\"Non-Holiday\")"
   ]
  },
  {
   "cell_type": "code",
   "execution_count": 13,
   "metadata": {},
   "outputs": [],
   "source": [
    "nypd[\"if_holiday\"]=nypd.apply(lambda x: holiday(x['ARREST_DATE']),axis=1)"
   ]
  },
  {
   "cell_type": "code",
   "execution_count": 14,
   "metadata": {},
   "outputs": [],
   "source": [
    "holiday = {\n",
    "    \"Non-Holiday\":350, #when it is not a holiday\n",
    "    \"Holiday\":15 #when it is a holiday\n",
    "}\n",
    "cases_for_holiday={}\n",
    "for i in holiday:\n",
    "    cases_for_holiday[i]=nypd.groupby('if_holiday').size()[i]/holiday[i]"
   ]
  },
  {
   "cell_type": "code",
   "execution_count": 15,
   "metadata": {},
   "outputs": [
    {
     "data": {
      "text/plain": [
       "{'Non-Holiday': 425.72857142857146, 'Holiday': 333.73333333333335}"
      ]
     },
     "execution_count": 15,
     "metadata": {},
     "output_type": "execute_result"
    }
   ],
   "source": [
    "cases_for_holiday"
   ]
  },
  {
   "cell_type": "code",
   "execution_count": 16,
   "metadata": {},
   "outputs": [
    {
     "data": {
      "text/plain": [
       "Text(0.5, 1.0, 'Number of Incidents by Holiday')"
      ]
     },
     "execution_count": 16,
     "metadata": {},
     "output_type": "execute_result"
    },
    {
     "data": {
      "image/png": "[encoded data removed]",
      "text/plain": [
       "<Figure size 432x288 with 1 Axes>"
      ]
     },
     "metadata": {
      "needs_background": "light"
     },
     "output_type": "display_data"
    }
   ],
   "source": [
    "plt.bar(*zip(*cases_for_holiday.items()),color=\"#9b2226\",width=0.5)\n",
    "plt.title('Number of Incidents by Holiday')"
   ]
  },
  {
   "cell_type": "code",
   "execution_count": null,
   "metadata": {},
   "outputs": [],
   "source": []
  },
  {
   "cell_type": "code",
   "execution_count": null,
   "metadata": {},
   "outputs": [],
   "source": []
  },
  {
   "cell_type": "markdown",
   "metadata": {},
   "source": [
    "### Incidents by Precint"
   ]
  },
  {
   "cell_type": "code",
   "execution_count": 17,
   "metadata": {},
   "outputs": [
    {
     "data": {
      "text/plain": [
       "<AxesSubplot:xlabel='ARREST_PRECINCT'>"
      ]
     },
     "execution_count": 17,
     "metadata": {},
     "output_type": "execute_result"
    },
    {
     "data": {
      "image/png": "[encoded data removed]",
      "text/plain": [
       "<Figure size 432x288 with 1 Axes>"
      ]
     },
     "metadata": {
      "needs_background": "light"
     },
     "output_type": "display_data"
    }
   ],
   "source": [
    "precinct_group = nypd.groupby('ARREST_PRECINCT')\n",
    "precinct_group.size().plot(kind='bar')"
   ]
  },
  {
   "cell_type": "code",
   "execution_count": null,
   "metadata": {},
   "outputs": [],
   "source": []
  },
  {
   "cell_type": "code",
   "execution_count": null,
   "metadata": {},
   "outputs": [],
   "source": []
  },
  {
   "cell_type": "code",
   "execution_count": null,
   "metadata": {},
   "outputs": [],
   "source": []
  },
  {
   "cell_type": "code",
   "execution_count": null,
   "metadata": {},
   "outputs": [],
   "source": []
  },
  {
   "cell_type": "code",
   "execution_count": null,
   "metadata": {},
   "outputs": [],
   "source": []
  },
  {
   "cell_type": "markdown",
   "metadata": {},
   "source": [
    "### Incidents by Level of Offenses"
   ]
  },
  {
   "cell_type": "code",
   "execution_count": 18,
   "metadata": {},
   "outputs": [
    {
     "data": {
      "text/plain": [
       "<AxesSubplot:xlabel='LAW_CAT_CD'>"
      ]
     },
     "execution_count": 18,
     "metadata": {},
     "output_type": "execute_result"
    },
    {
     "data": {
      "image/png": "[encoded data removed]",
      "text/plain": [
       "<Figure size 432x288 with 1 Axes>"
      ]
     },
     "metadata": {
      "needs_background": "light"
     },
     "output_type": "display_data"
    }
   ],
   "source": [
    "offense_group = nypd.groupby('LAW_CAT_CD')\n",
    "offense_group.size().plot(kind='bar')"
   ]
  },
  {
   "cell_type": "code",
   "execution_count": null,
   "metadata": {},
   "outputs": [],
   "source": []
  },
  {
   "cell_type": "code",
   "execution_count": null,
   "metadata": {},
   "outputs": [],
   "source": []
  },
  {
   "cell_type": "code",
   "execution_count": null,
   "metadata": {},
   "outputs": [],
   "source": []
  },
  {
   "cell_type": "code",
   "execution_count": null,
   "metadata": {},
   "outputs": [],
   "source": []
  },
  {
   "cell_type": "code",
   "execution_count": null,
   "metadata": {},
   "outputs": [],
   "source": []
  },
  {
   "cell_type": "code",
   "execution_count": null,
   "metadata": {},
   "outputs": [],
   "source": []
  },
  {
   "cell_type": "code",
   "execution_count": null,
   "metadata": {},
   "outputs": [],
   "source": []
  },
  {
   "cell_type": "code",
   "execution_count": null,
   "metadata": {},
   "outputs": [],
   "source": []
  },
  {
   "cell_type": "code",
   "execution_count": null,
   "metadata": {},
   "outputs": [],
   "source": []
  }
 ],
 "metadata": {
  "kernelspec": {
   "display_name": "Python 3",
   "language": "python",
   "name": "python3"
  },
  "language_info": {
   "codemirror_mode": {
    "name": "ipython",
    "version": 3
   },
   "file_extension": ".py",
   "mimetype": "text/x-python",
   "name": "python",
   "nbconvert_exporter": "python",
   "pygments_lexer": "ipython3",
   "version": "3.8.5"
  }
 },
 "nbformat": 4,
 "nbformat_minor": 4
}
